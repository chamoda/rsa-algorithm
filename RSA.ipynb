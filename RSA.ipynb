{
 "cells": [
  {
   "cell_type": "code",
   "execution_count": 25,
   "metadata": {},
   "outputs": [],
   "source": [
    "from __future__ import division\n",
    "from Crypto.Util import number\n",
    "import os\n",
    "from fractions import gcd"
   ]
  },
  {
   "cell_type": "code",
   "execution_count": 164,
   "metadata": {},
   "outputs": [],
   "source": [
    "class RSA:\n",
    "    \n",
    "    p = q = n = d = e = pi_n = 0\n",
    "    \n",
    "    def __init__(self):\n",
    "        \n",
    "        self.generate()\n",
    "        \n",
    "    def generate(self):\n",
    "        \n",
    "        self.p = number.getPrime(10, os.urandom)\n",
    "        self.q = number.getPrime(10, os.urandom)\n",
    "        \n",
    "        self.n = self.p * self.q\n",
    "        \n",
    "        self.pi_n = (self.p - 1) * (self.q - 1)\n",
    "        \n",
    "        self.d = self.choose_d()\n",
    "        \n",
    "        self.e = self.choose_e()\n",
    "        \n",
    "    def choose_d(self):\n",
    "        \n",
    "        self.d = self.find_a_coprime(self.pi_n)\n",
    "        \n",
    "        return self.d\n",
    "                    \n",
    "    def find_a_coprime(self, a):\n",
    "        \n",
    "        for i in range(2, a):\n",
    "            \n",
    "            if gcd(i, a) == 1:\n",
    "                \n",
    "                return i\n",
    "            \n",
    "    def choose_e(self):\n",
    "        \n",
    "        for i in range(self.n):\n",
    "            \n",
    "            if (i * self.d) % self.pi_n == 1:\n",
    "                \n",
    "                return i\n",
    "    \n",
    "    def public_key(self):\n",
    "        \n",
    "        return (self.e, self.n)\n",
    "    \n",
    "    def private_key(self):\n",
    "        \n",
    "        return (self.d, self.n)\n",
    "    \n",
    "    def encrypt(self, m, key):\n",
    "        \n",
    "        return pow(m, key[0]) % key[1]\n",
    "    \n",
    "    def decrypt(self, c, key):\n",
    "        \n",
    "        return pow(c, key[0]) % key[1]"
   ]
  },
  {
   "cell_type": "code",
   "execution_count": 165,
   "metadata": {},
   "outputs": [],
   "source": [
    "rsa = RSA()"
   ]
  },
  {
   "cell_type": "code",
   "execution_count": 168,
   "metadata": {},
   "outputs": [
    {
     "data": {
      "text/plain": [
       "99L"
      ]
     },
     "execution_count": 168,
     "metadata": {},
     "output_type": "execute_result"
    }
   ],
   "source": [
    "rsa.decrypt(rsa.encrypt(99, rsa.public_key()), rsa.private_key())"
   ]
  },
  {
   "cell_type": "code",
   "execution_count": 162,
   "metadata": {},
   "outputs": [
    {
     "data": {
      "text/plain": [
       "(321473, 537253L)"
      ]
     },
     "execution_count": 162,
     "metadata": {},
     "output_type": "execute_result"
    }
   ],
   "source": [
    "rsa.public_key()"
   ]
  },
  {
   "cell_type": "code",
   "execution_count": 163,
   "metadata": {},
   "outputs": [
    {
     "data": {
      "text/plain": [
       "(5, 537253L)"
      ]
     },
     "execution_count": 163,
     "metadata": {},
     "output_type": "execute_result"
    }
   ],
   "source": [
    "rsa.private_key()"
   ]
  },
  {
   "cell_type": "code",
   "execution_count": null,
   "metadata": {
    "collapsed": true
   },
   "outputs": [],
   "source": []
  }
 ],
 "metadata": {
  "kernelspec": {
   "display_name": "Python 2",
   "language": "python",
   "name": "python2"
  },
  "language_info": {
   "codemirror_mode": {
    "name": "ipython",
    "version": 2
   },
   "file_extension": ".py",
   "mimetype": "text/x-python",
   "name": "python",
   "nbconvert_exporter": "python",
   "pygments_lexer": "ipython2",
   "version": "2.7.13"
  }
 },
 "nbformat": 4,
 "nbformat_minor": 2
}
